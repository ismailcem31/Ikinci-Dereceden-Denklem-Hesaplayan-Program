{
 "cells": [
  {
   "cell_type": "code",
   "execution_count": null,
   "id": "c1c86ad1",
   "metadata": {},
   "outputs": [],
   "source": [
    "#kullanıcıdan girdi al\n",
    "a = int(input(\"a: \"))\n",
    "b = int(input(\"b: \"))\n",
    "c = int(input(\"c: \"))\n",
    " \n",
    "# Kullanıcının girdiği katsayılara göre denklemi yazdır\n",
    "print(f\"Girilen katsayılara göre denklem: {a}x^2 + {b}x + {c}\")\n",
    " \n",
    "delta = b**2 - 4*a*c\n",
    " \n",
    "if delta < 0:\n",
    "  print(\"Denklemin reel kökü yok.\")\n",
    "elif delta == 0:\n",
    "  x = -b / (2*a)\n",
    "  print(\"Denklemin tek kökü var: x =\", x)\n",
    "else:\n",
    "  x1 = (-b - delta**0.5) / (2*a)\n",
    "  x2 = (-b + delta**0.5) / (2*a)\n",
    "  print(\"Birinci Kök: {}\\nİkinci Kök: {}\".format(x1, x2))"
   ]
  }
 ],
 "metadata": {
  "kernelspec": {
   "display_name": "Python 3 (ipykernel)",
   "language": "python",
   "name": "python3"
  },
  "language_info": {
   "codemirror_mode": {
    "name": "ipython",
    "version": 3
   },
   "file_extension": ".py",
   "mimetype": "text/x-python",
   "name": "python",
   "nbconvert_exporter": "python",
   "pygments_lexer": "ipython3",
   "version": "3.11.3"
  }
 },
 "nbformat": 4,
 "nbformat_minor": 5
}
